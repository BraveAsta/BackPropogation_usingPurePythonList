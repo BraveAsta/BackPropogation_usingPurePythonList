{
 "cells": [
  {
   "cell_type": "code",
   "execution_count": 1,
   "metadata": {
    "ExecuteTime": {
     "end_time": "2021-02-24T12:56:53.046640Z",
     "start_time": "2021-02-24T12:56:53.028689Z"
    }
   },
   "outputs": [],
   "source": [
    "#Delta（大写 Δ，小写 δ） 神经单元误差\n",
    "#Nabla算子（nabla operator），又称劈形算子，倒三角算子，哈密顿算子，是一个微分算子。▽ 梯度\n",
    "#Todo 1.增加测试集\n",
    "#     2.Drop out\n",
    "#     3.Adam\n",
    "#     4.Softmax\n",
    "#     5.偏差-方差 曲线\n",
    "#     6.Relu 随机初始化\n",
    "#     7. Batch normal\n",
    "#     8. 卷积神经网络\n",
    "#     9. 保存参数 预训练\n",
    "#     10.Momemtum"
   ]
  },
  {
   "cell_type": "code",
   "execution_count": 2,
   "metadata": {
    "ExecuteTime": {
     "end_time": "2021-02-24T12:56:53.374185Z",
     "start_time": "2021-02-24T12:56:53.339277Z"
    }
   },
   "outputs": [],
   "source": [
    "import math\n",
    "import random\n",
    "#矩阵之间乘法 输入矩阵MA,MB为列表的列表\n",
    "def MatrixMulti(MA,MB):\n",
    "    MA_row,MA_col=len(MA),len(MA[0])\n",
    "    MB_row,MB_col=len(MB),len(MB[0])\n",
    "    #生成MA_row行 MB_col列的二维矩阵\n",
    "    MC=[[0]*MB_col for row in range(MA_row)]\n",
    "    if(MA_col==MB_row):\n",
    "        #得到一个A的行，B的列的矩阵\n",
    "        for row in range(MA_row):\n",
    "            for col in range(MB_col):\n",
    "                MC[row][col]=0\n",
    "                #点积个数为A的列(B的行) A是遍历列，B是遍历行(因为是A的行与B的列内积)\n",
    "                for dot in range(MA_col):\n",
    "                    MC[row][col]+=MA[row][dot]*MB[dot][col]\n",
    "    return MC\n",
    "\n",
    "def Matrixadd(MA,MB):\n",
    "    MA_row,MA_col=len(MA),len(MA[0])\n",
    "    MB_row,MB_col=len(MB),len(MB[0])\n",
    "    #生成MA_row行 MB_col列的二维矩阵\n",
    "    MC=[[0]*MB_col for row in range(MA_row)]\n",
    "    if(MA_row==MB_row and MA_col==MB_col):\n",
    "        for row in range(MA_row):\n",
    "            for col in range(MA_col):\n",
    "                MC[row][col]=MA[row][col]+MB[row][col]\n",
    "    return MC\n",
    "\n",
    "def Matrixsub(MA,MB):\n",
    "    MA_row,MA_col=len(MA),len(MA[0])\n",
    "    MB_row,MB_col=len(MB),len(MB[0])\n",
    "    #生成MA_row行 MB_col列的二维矩阵\n",
    "    MC=[[0]*MB_col for row in range(MA_row)]\n",
    "    if(MA_row==MB_row and MA_col==MB_col):\n",
    "        for row in range(MA_row):\n",
    "            for col in range(MA_col):\n",
    "                MC[row][col]=MA[row][col]-MB[row][col]\n",
    "    return MC\n",
    "\n",
    "def MatrixHadamard(MA,MB):\n",
    "    MA_row,MA_col=len(MA),len(MA[0])\n",
    "    MB_row,MB_col=len(MB),len(MB[0])\n",
    "    #生成MA_row行 MB_col列的二维矩阵\n",
    "    MC=[[0]*MB_col for row in range(MA_row)]\n",
    "    if(MA_row==MB_row and MA_col==MB_col):\n",
    "        for row in range(MA_row):\n",
    "            for col in range(MA_col):\n",
    "                MC[row][col]=MA[row][col]*MB[row][col]\n",
    "    return MC\n",
    "    \n",
    "    \n",
    "#重塑方法，将i*j的矩阵转换为m*n的矩阵(i*j=m*n)\n",
    "def reshape(matrix,row,col):\n",
    "    M=[[0]*col for r in range(row)]\n",
    "    m_row=len(matrix)\n",
    "    m_col=len(matrix[0])\n",
    "    for i in range(row):\n",
    "        for j in range(col):\n",
    "            #第几个数\n",
    "            m,n=divmod(i*col+j,m_col)\n",
    "            M[i][j]=matrix[m][n]\n",
    "    return M\n",
    "\n",
    "#两个向量相加\n",
    "def Vectoradd(VA,VB):\n",
    "    lenA,lenB=len(VA),len(VB)\n",
    "    VC=[0]*lenA\n",
    "    if(lenA==lenB):\n",
    "        for i in range(lenA):\n",
    "            VC[i]=VA[i]+VB[i]\n",
    "    return VC\n",
    "\n",
    "#向量的哈达玛积\n",
    "def VectorHadamard(VA,VB):\n",
    "    lenA,lenB=len(VA),len(VB)\n",
    "    VC=[0]*lenA\n",
    "    if(lenA==lenB):\n",
    "        for i in range(lenA):\n",
    "            VC[i]=VA[i]*VB[i]\n",
    "    return VC\n",
    "\n",
    "#向量的每个数都使用激活函数激活\n",
    "def Vectoractivate(V,act):\n",
    "    for i in range(len(V)):\n",
    "        V[i]=act(V[i])\n",
    "\n",
    "        \n",
    "#激活函数 sigmoid\n",
    "def activate(x):\n",
    "    return 1.0/(math.exp(-x)+1.0)\n",
    "\n",
    "#激活函数的反函数\n",
    "def inverse_activate(x):\n",
    "    return math.log(x/(1-x))\n",
    "    \n",
    "#矩阵中的数 运用同一操作\n",
    "def operateMatrix(operate,matrix):\n",
    "    m_row=len(matrix)\n",
    "    m_col=len(matrix[0])\n",
    "    #激活函数\n",
    "    if(operate=='activate'):\n",
    "        for i in range(m_row):\n",
    "            for j in range(m_col):\n",
    "                matrix[i][j]=activate(matrix[i][j])\n",
    "    \n",
    "    #归一化\n",
    "    elif(operate=='normalize'):\n",
    "        for i in range(m_row):\n",
    "            for j in range(m_col):\n",
    "                matrix[i][j]=matrix[i][j]/255\n",
    "                \n",
    "    \n",
    "\n",
    "#激活函数sigmoid的导数\n",
    "def derivative(x):\n",
    "    return activate(x)(1-activate(x))\n",
    "\n",
    "#返回均值为u，方差为sigma的正态分布随机数\n",
    "def normal_dis(u,sigma):\n",
    "    return random.normalvariate(u, sigma)\n",
    "\n",
    "#返回一个正态分布随机数矩阵\n",
    "def normal_matrix(u,sigma,row,col):\n",
    "    Matrix=[[0]*col for r in range(row)]\n",
    "    for r in range(row):\n",
    "        for c in range(col):\n",
    "            Matrix[r][c]=random.normalvariate(u, sigma)\n",
    "    return Matrix\n",
    "\n",
    "#返回一个均匀分布随机数矩阵\n",
    "def uniform_matrix(a,b,row,col):\n",
    "    Matrix=[[0]*col for r in range(row)]\n",
    "    for r in range(row):\n",
    "        for c in range(col):\n",
    "            Matrix[r][c]=random.uniform(a,b)\n",
    "    return Matrix\n",
    "\n",
    "# ma=[[2,3,4],[1,2,3]]\n",
    "# activateMatrix(activate,ma)\n",
    "# print(ma)\n",
    "# mb=[[1],[2],[3]]\n",
    "# print(MatrixMulti(ma,mb))\n",
    "# print(normal_matrix(0,1,1,3))\n",
    "# print(normal_matrix(0,1,1,3)[0]*3)\n",
    "# print(normal_matrix(0,1,3,3))\n",
    "# print(normal_matrix(0,1,1,3)*3)"
   ]
  },
  {
   "cell_type": "code",
   "execution_count": 3,
   "metadata": {
    "ExecuteTime": {
     "end_time": "2021-02-24T12:57:22.587410Z",
     "start_time": "2021-02-24T12:56:53.644578Z"
    }
   },
   "outputs": [
    {
     "name": "stdout",
     "output_type": "stream",
     "text": [
      "60000 60000\n",
      "10000 10000\n",
      "[0, 0, 0, 0, 0, 1, 0, 0, 0, 0]\n",
      "[0, 1, 0, 0, 0, 0, 0, 0, 0, 0]\n",
      "<class 'list'>\n",
      "60000\n"
     ]
    }
   ],
   "source": [
    "#数据探索 \n",
    "#可以利用tolist函数将Numpy中的数组转换为Python中的列表，还可以用astype指定转换数组的数据类型。\n",
    "#一共60000个训练数据集，10000个测试数据集\n",
    "from keras.datasets import mnist\n",
    "(x_train, y_train), (x_test, y_test) = mnist.load_data() \n",
    "print(len(x_train),len(y_train))\n",
    "print(len(x_test),len(y_test))\n",
    "\n",
    "#将标签类型转换为 二维矩阵的独立热编码,y为标签的数字,row为行数(10)\n",
    "def one_hot_label(label,row):\n",
    "    label=[[int(i==label)]for i in range(row)]\n",
    "    return label\n",
    "\n",
    "#将标签转为一维列表的独立热编码 \n",
    "def one_hot_label2(label,row):\n",
    "    label=[ int(i==label) for i in range(row)]\n",
    "    return label\n",
    "\n",
    "#计算预测是否正确\n",
    "def count_corr(y,label):\n",
    "    return int(y.index(max(y))==label.index(1))\n",
    "\n",
    "#转换为浮点型\n",
    "x_train=x_train.astype('float32').tolist()\n",
    "x_test=x_test.astype('float32').tolist()\n",
    "\n",
    "#转换为向量矩阵 (一行784列) map函数要求 参数为迭代器类型 所以要乘以列表个数\n",
    "x_train=list(map(reshape,x_train,[1]*len(x_train),[784]*len(x_train)))\n",
    "x_test=list(map(reshape,x_test,[1]*len(x_test),[784]*len(x_test)))\n",
    "\n",
    "# 归一化 暂时隐藏\n",
    "for i in range(len(x_train)):\n",
    "    operateMatrix('normalize',x_train[i])\n",
    "for i in range(len(x_test)):\n",
    "    operateMatrix('normalize',x_test[i])\n",
    "\n",
    "#标签转换为独立热编码\n",
    "y_train=list(map(one_hot_label2,y_train,[10]*len(y_train)))\n",
    "y_test=list(map(one_hot_label2,y_test,[10]*len(y_test)))\n",
    "# print(one_hot_label(y_train[0],10))\n",
    "print(y_train[0])\n",
    "print(y_test[2])\n",
    "\n",
    "print(type(x_train))\n",
    "print(len(x_train))\n",
    "# print(x_train[0])\n",
    "\n",
    "#测试\n",
    "# #list类型\n",
    "# print(type(x_tra[0]))\n",
    "# #int类型\n",
    "# print(type(y_tra[59999]))\n",
    "# print(x_tra[0])\n",
    "# print(y_tra[59999])"
   ]
  },
  {
   "cell_type": "code",
   "execution_count": 10,
   "metadata": {
    "ExecuteTime": {
     "end_time": "2021-02-24T14:53:22.824025Z",
     "start_time": "2021-02-24T14:33:32.613463Z"
    }
   },
   "outputs": [
    {
     "name": "stdout",
     "output_type": "stream",
     "text": [
      "训练集数量: \n",
      "1280\n",
      "第1次epo-test9后准确率为:\n",
      "0.1109375\n",
      "第2次epo-test9后准确率为:\n",
      "0.1203125\n",
      "第3次epo-test9后准确率为:\n",
      "0.11953125\n",
      "第4次epo-test9后准确率为:\n",
      "0.13671875\n",
      "第5次epo-test9后准确率为:\n",
      "0.18359375\n",
      "第6次epo-test9后准确率为:\n",
      "0.26015625\n",
      "第7次epo-test9后准确率为:\n",
      "0.31484375\n",
      "第8次epo-test9后准确率为:\n",
      "0.3625\n",
      "第9次epo-test9后准确率为:\n",
      "0.44765625\n",
      "第10次epo-test9后准确率为:\n",
      "0.4671875\n",
      "第11次epo-test9后准确率为:\n",
      "0.54609375\n",
      "第12次epo-test9后准确率为:\n",
      "0.58046875\n",
      "第13次epo-test9后准确率为:\n",
      "0.60078125\n",
      "第14次epo-test9后准确率为:\n",
      "0.63046875\n",
      "第15次epo-test9后准确率为:\n",
      "0.63671875\n",
      "第16次epo-test9后准确率为:\n",
      "0.65859375\n",
      "第17次epo-test9后准确率为:\n",
      "0.69921875\n",
      "第18次epo-test9后准确率为:\n",
      "0.7109375\n",
      "第19次epo-test9后准确率为:\n",
      "0.71953125\n",
      "第20次epo-test9后准确率为:\n",
      "0.7390625\n",
      "第21次epo-test9后准确率为:\n",
      "0.74921875\n",
      "第22次epo-test9后准确率为:\n",
      "0.77734375\n",
      "第23次epo-test9后准确率为:\n",
      "0.7828125\n",
      "第24次epo-test9后准确率为:\n",
      "0.78828125\n",
      "第25次epo-test9后准确率为:\n",
      "0.80390625\n",
      "第26次epo-test9后准确率为:\n",
      "0.81015625\n",
      "第27次epo-test9后准确率为:\n",
      "0.81640625\n",
      "第28次epo-test9后准确率为:\n",
      "0.80703125\n",
      "第29次epo-test9后准确率为:\n",
      "0.8125\n",
      "第30次epo-test9后准确率为:\n",
      "0.82109375\n",
      "第31次epo-test9后准确率为:\n",
      "0.82265625\n",
      "第32次epo-test9后准确率为:\n",
      "0.82421875\n",
      "第33次epo-test9后准确率为:\n",
      "0.82734375\n",
      "第34次epo-test9后准确率为:\n",
      "0.83046875\n",
      "第35次epo-test9后准确率为:\n",
      "0.8296875\n",
      "第36次epo-test9后准确率为:\n",
      "0.83359375\n",
      "第37次epo-test9后准确率为:\n",
      "0.82734375\n",
      "第38次epo-test9后准确率为:\n",
      "0.828125\n",
      "第39次epo-test9后准确率为:\n",
      "0.83125\n",
      "第40次epo-test9后准确率为:\n",
      "0.825\n",
      "第41次epo-test9后准确率为:\n",
      "0.82734375\n",
      "第42次epo-test9后准确率为:\n",
      "0.83203125\n",
      "第43次epo-test9后准确率为:\n",
      "0.828125\n",
      "第44次epo-test9后准确率为:\n",
      "0.83515625\n",
      "第45次epo-test9后准确率为:\n",
      "0.8328125\n",
      "第46次epo-test9后准确率为:\n",
      "0.8359375\n",
      "第47次epo-test9后准确率为:\n",
      "0.83203125\n",
      "第48次epo-test9后准确率为:\n",
      "0.834375\n",
      "第49次epo-test9后准确率为:\n",
      "0.8359375\n",
      "第50次epo-test9后准确率为:\n",
      "0.8359375\n"
     ]
    },
    {
     "data": {
      "image/png": "[encoded data removed]",
      "text/plain": [
       "<Figure size 432x288 with 1 Axes>"
      ]
     },
     "metadata": {},
     "output_type": "display_data"
    }
   ],
   "source": [
    "%matplotlib inline\n",
    "import matplotlib.pyplot as plt\n",
    "import json\n",
    "plt.style.use(\"seaborn-whitegrid\")\n",
    "plt.rcParams['font.sans-serif'] = ['SimHei']\n",
    "plt.rcParams['axes.unicode_minus'] = False\n",
    "#math range error\n",
    "#改变切片数量后 需要重新运行一遍\n",
    "###**   X是三维矩阵(三维列表)\n",
    "#weignts biases 都是三维矩阵 2 (784*30)(30*10) 2 (1*30) (1*10)\n",
    "#batch size 的迭代方式 每次大小都是固定相同的 如果不够则不会迭代剩余部分(再取下去) 例如样本总数为30 batch_size为16 则只会迭代一次\n",
    "from functools import reduce\n",
    "\n",
    "points={}\n",
    "points2={}\n",
    "\n",
    "#0.7828125\n",
    "\n",
    "class MyNeuralNetwork(object):\n",
    "    def __init__(self, sizes):\n",
    "        #神经网络层数\n",
    "        self.num_layers = len(sizes)\n",
    "        \n",
    "        #设置每层的神经元个数\n",
    "        self.sizes = sizes\n",
    "        \n",
    "        #预训练初始化\n",
    "#         with open(\"weights.json\",'r') as load_f:\n",
    "#             self.weights= json.load(load_f)\n",
    "        \n",
    "#         with open(\"biases.json\",'r') as load_f:\n",
    "#             self.biases= json.load(load_f)\n",
    "        \n",
    "        \n",
    "        # 初始输入层，随机产生每层中的y个神经元的biase值（0,1）\n",
    "        \n",
    "        #x行y列 矩阵列表 保存权重\n",
    "        \n",
    "#         self.weights=[normal_matrix(0,1,x,y) for x,y in zip(sizes[:-1],sizes[1:])]\n",
    "        self.weights=[MatrixHadamard(normal_matrix(0,1,x,y),[[0.01 for j in range(y)] for i in range(x)])  for x,y in zip(sizes[:-1],sizes[1:])]\n",
    "\n",
    "#         self.weights=[normal_matrix(0,1,x,y) for x,y in zip(sizes[:-1],sizes[1:])]\n",
    "        \n",
    "#         print(len(self.weights))\n",
    "#         print(len(self.weights[0]))\n",
    "\n",
    "        #1行y列 偏置列表\n",
    "#         self.biases=[normal_matrix(0,1,1,y) for y in sizes[1:]]\n",
    "#         self.biases=[MatrixHadamard(normal_matrix(0,1,1,y),[[0.1 for j in range(y)]]) for y in sizes[1:]]\n",
    "        self.biases=[uniform_matrix(0,0,1,y)  for y in sizes[1:]]\n",
    "    \n",
    "#         print('初始权重:')\n",
    "#         print(self.biases[0])\n",
    "\n",
    "#         print(len(self.biases[1][0]))\n",
    "#         print(self.biases[0])\n",
    "    \n",
    "    #训练集 测试集 迭代次数 batch大小 学习率\n",
    "    def training(self,x_train,y_train,x_test,y_test,epochs,batch_size,eta):\n",
    "        print('训练集数量: ')\n",
    "        print(len(x_train))\n",
    "        #迭代 epoch\n",
    "        for epo in range(epochs):\n",
    "            #损失函数 训练中预测正确的样本个数\n",
    "            test_correct,train_correct=(0,0)\n",
    "            \n",
    "            #打乱训练集顺序\n",
    "            temp = list(zip(x_train,y_train))\n",
    "            random.shuffle(temp)\n",
    "            x_train[:], y_train[:] = zip(*temp)\n",
    "            \n",
    "            \n",
    "            #batchsize 迭代  第几个batch_size\n",
    "            for n_batch_size in range((int(len(x_train)/batch_size))):\n",
    "                batch_start,batch_end=((n_batch_size*batch_size),((n_batch_size+1)*batch_size))\n",
    "                #python 切片 左闭右开 [)\n",
    "                #输入矩阵 并降维为二维矩阵  error 不降维不会报错，但是前十行数会相同  (此切片是三维矩阵)   测试点 \n",
    "                X=reduce(lambda x,y:x+y,x_train[batch_start:batch_end])\n",
    "                \n",
    "#                 print(len(X))\n",
    "\n",
    "                #保存第二层到最后一层神经元的z z是一个三维矩阵\n",
    "                z=[]\n",
    "                #加入加入 第一层x=a=z\n",
    "                z.append(X)\n",
    "                \n",
    "                #前向传播  最终X为batch_size*10大小的二维矩阵\n",
    "                for w,b in zip(self.weights,self.biases):\n",
    "                #每一层的z\n",
    "                    X=Matrixadd(MatrixMulti(X,w),b*len(X))\n",
    "                    z.append(X)\n",
    "                       \n",
    "                #每一层的a\n",
    "                    operateMatrix('activate',X)\n",
    "                \n",
    "                #z 2 10*30 10*10\n",
    "\n",
    "                #流程：\n",
    "                #全局定义 每个batch中的 b、w总更新的梯度\n",
    "                #计算每个batch_size中每一个样本的反向传播 求出b、w更新的梯度\n",
    "                #累加batch_size中样本的 b、w更新的梯度\n",
    "                #根据累加的梯度 更新全局w和b \n",
    "\n",
    "                Y=y_train[batch_start:batch_end]\n",
    "                \n",
    "                #Todo 显示预测结果 评估准确率\n",
    "                \n",
    "                #每个batch_size之后的 权重 偏置 总量之和\n",
    "                batch_nabla_w=[ [[0]*col for row in range(r)] for r,col in zip(self.sizes[:-1],self.sizes[1:])]\n",
    "                batch_nabla_b=[[[0]*col ] for col in self.sizes[1:]]\n",
    "                \n",
    "                #第k个样本 0-----9 (共10个)\n",
    "                for k in range(batch_size):\n",
    "                    train_correct+=count_corr(X[k],Y[k])\n",
    "                    #更新的权重和偏置 矩阵 结构同 weights biases相同\n",
    "                    #2 784*30 30*10\n",
    "                    nabla_w=[ [[0]*col for row in range(r)] for r,col in zip(self.sizes[:-1],self.sizes[1:])]\n",
    "                    #2 1*30 1*10\n",
    "                    nabla_b=[[[0]*col ] for col in self.sizes[1:]]\n",
    "                    \n",
    "                    #保存每一层的神经单元误差 2 1*30 1*10\n",
    "                    delta=[[[0]*col ] for col in self.sizes[1:]]\n",
    "                    \n",
    "                    #最后一层\n",
    "                    #一维列表 长度为10     e1111 弄成二维1*10''''''\n",
    "                    delta[-1][0]= [(X[k][j]-Y[k][j])*activate(z[-1][k][j])*(1-activate(z[-1][k][j])) for j in range(len(delta[-1][0]))] \n",
    "                    #三行二列 b=[ [i*j for i in range(2)] for j in range(3)]\n",
    "#                     print(len(nabla_w[-1][0])) #10\n",
    "#                     print(len(nabla_w[-1]))  #30\n",
    "                                   #核心部分  这是个二维矩阵   i(30)行j(10)列\n",
    "                    nabla_w[-1]=[ [delta[-1][0][j]*activate(z[-2][k][i]) for j in range(len(nabla_w[-1][0]))] for i in range(len(nabla_w[-1]))]\n",
    "\n",
    "                      #核心部分  此处也要弄成一个二维矩阵\n",
    "                    nabla_b[-1]=[[ delta[-1][0][j] for j in range(len(nabla_b[-1][0])) ]]\n",
    "                                        \n",
    "                    for l in range(2, self.num_layers):\n",
    "                        #第l层的神经元个数 30\n",
    "                        for i in range(len(delta[-l][0])):\n",
    "#                             print(len(delta[-l][0]))\n",
    "                            #第l+1层的神经元个数 10\n",
    "                            for m in range(len(delta[-l+1][0])):#may error 去掉[0]\n",
    "#                                 print(len(delta[-l+1][0]))     nabla_w矩阵 -l+1层 30*10\n",
    "#                                 print(len(nabla_w[-l+1][3]))\n",
    "                                delta[-l][0][i]+=delta[-l+1][0][m]*self.weights[-l+1][i][m]  #Attention i与m的次序\n",
    "                            delta[-l][0][i]*=(activate(z[-l][k][i])*(1-activate(z[-l][k][i])))\n",
    "                            #activate(z[-l-1][k][i]) 超出范围 x1=a1 x2=a2 输入层也是a!!!!!!!!!!!!\n",
    "                        if((-l)!=(-self.num_layers+1)):\n",
    "                            nabla_w[-l]=[ [delta[-l][0][j]*activate(z[-l-1][k][i]) for j in range(len(nabla_w[-l][0]))] for i in range(len(nabla_w[-l]))]\n",
    "                        else:   #第一层的a不用激活 即a1i=z1i   ### X\n",
    "                            nabla_w[-l]=[ [delta[-l][0][j]*z[-l-1][k][i] for j in range(len(nabla_w[-l][0]))] for i in range(len(nabla_w[-l]))]\n",
    "                            \n",
    "                        nabla_b[-l]=[[ delta[-l][0][j] for j in range(len(nabla_b[-l][0])) ]]\n",
    "                        \n",
    "                    #每一层的权重、偏置增量更新完成    更新每个样本的权重、偏置增量 累加到一个batch中的权重、偏置增量中去去去去去\n",
    "#                     for b_w,b_b,w,b in zip(batch_nabla_w,batch_nabla_b,nabla_w,nabla_b):\n",
    "#                         b_w=Matrixadd(b_w,w)\n",
    "#                         b_b=Matrixadd(b_b,b)\n",
    "                    \n",
    "                    for i in range(self.num_layers-1):\n",
    "                        batch_nabla_w[i]=Matrixadd(batch_nabla_w[i],nabla_w[i])\n",
    "                        batch_nabla_b[i]=Matrixadd(batch_nabla_b[i],nabla_b[i])\n",
    "                        \n",
    "                #更新总权重    \n",
    "                #  for all_w,all_b,b_w,b_b in zip(self.weights,self.biases,batch_nabla_w,batch_nabla_b):\n",
    "                for i in range(self.num_layers-1):\n",
    "#                     print(len(self.weights[i])) #784\n",
    "#                     print(len(self.weights[i][0])) #30\n",
    "#                     print(len(batch_nabla_w[i]))#784\n",
    "#                     print(len(batch_nabla_w[i][0]))#30\n",
    "#                     print(Matrixadd(self.weights[i],MatrixHadamard(batch_nabla_w[i],[ [(eta/batch_size) for col_w in range(len(self.weights[i][0])) ] for row_w in range(len(self.weights[i]))])))\n",
    "#                     print(Matrixadd(self.biases[i],MatrixHadamard(batch_nabla_b[i],[ [(eta/batch_size) for col_b in range(len(self.biases[i][0]))] for row_b in range(len(self.biases[i]))])))\n",
    "                    self.weights[i]=Matrixsub(self.weights[i],MatrixHadamard(batch_nabla_w[i],[ [(eta/batch_size) for col_w in range(len(self.weights[i][0])) ] for row_w in range(len(self.weights[i]))]))\n",
    "#                     print('第{}次'.format(i))\n",
    "#                     \n",
    "                    self.biases[i]=Matrixsub(self.biases[i],MatrixHadamard(batch_nabla_b[i],[ [(eta/batch_size) for col_b in range(len(self.biases[i][0]))] for row_b in range(len(self.biases[i]))]))\n",
    "#                     print(self.biases[i])\n",
    "            \n",
    "#                 print('此处更新总权重{}——{}'.format(n_batch_size,self.biases[0]))\n",
    "                    \n",
    "                    \n",
    "                    \n",
    "                                       \n",
    "                        \n",
    "#                         print(len(delta[-l][0]))  #30\n",
    "#                     print(len(nabla_w[-l]))    #784\n",
    "#                     print(len(nabla_w[-l][0]))   #30\n",
    "                        \n",
    "                    \n",
    "#            不要去掉 更新参数后添加  训练集误差\n",
    "            print('第{}次epo-test9后准确率为:'.format(epo+1))\n",
    "#             print(self.weights[0])\n",
    "#             print(int(len(x_train)))\n",
    "            print(train_correct/ ((int(len(x_train)/batch_size))*batch_size))\n",
    "            points[epo]=1-(train_correct/ ((int(len(x_train)/batch_size))*batch_size))\n",
    "            \n",
    "            #验证集误差\n",
    "            dev_X=reduce(lambda x,y:x+y,x_test)\n",
    "            #前向传播  最终X为batch_size*10大小的二维矩阵\n",
    "            for w,b in zip(self.weights,self.biases):\n",
    "                dev_X=Matrixadd(MatrixMulti(dev_X,w),b*len(dev_X))\n",
    "                operateMatrix('activate',dev_X)\n",
    "            \n",
    "            dev_Y=y_test\n",
    "            \n",
    "            for i in range(len(dev_X)):\n",
    "                test_correct+=count_corr(dev_X[i],dev_Y[i])\n",
    "            \n",
    "            points2[epo]=1-test_correct/len(dev_X)\n",
    "        \n",
    "        #保存参数\n",
    "#         with open(\"weights.json\",\"w\")as f:\n",
    "#             json_str=json.dump(self.weights,f)\n",
    "        \n",
    "#         with open(\"biases.json\",\"w\")as f:\n",
    "#             json_str=json.dump(self.biases,f)\n",
    "        \n",
    "        plt.plot(list(points.keys()),list(points.values()),label='train')\n",
    "        plt.plot(list(points2.keys()),list(points2.values()),label='dev')\n",
    "        plt.title(\"epoch-error\")\n",
    "        plt.xlabel(\"epoch\")\n",
    "        plt.ylabel(\"error\")\n",
    "        plt.tight_layout()\n",
    "        plt.legend()\n",
    "                    \n",
    "                    \n",
    "                    #每一层的神经单元误差 从倒数第二层倒数到第二层 \n",
    "#                     for l in range(2, self.num_layers):\n",
    "                    \n",
    "#                     print(z[-1])\n",
    "               \n",
    "\n",
    "#0.15625                                     \n",
    "myNN=MyNeuralNetwork([784,30,10])\n",
    "x_train=x_train[0:1280]\n",
    "y_train=y_train[0:1280]\n",
    "x_test=x_test[0:128]\n",
    "y_test=y_test[0:128]\n",
    "epochs=50\n",
    "batch_size=4\n",
    "eta=0.1\n",
    "myNN.training(x_train,y_train,x_test,y_test,epochs,batch_size,eta)                   \n",
    "   \n",
    "\n",
    "            "
   ]
  },
  {
   "cell_type": "code",
   "execution_count": 5,
   "metadata": {
    "ExecuteTime": {
     "end_time": "2021-02-24T13:17:39.133878Z",
     "start_time": "2021-02-24T13:17:39.119915Z"
    }
   },
   "outputs": [
    {
     "name": "stdout",
     "output_type": "stream",
     "text": [
      "a b\n",
      "b c\n",
      "c d\n",
      "d e\n",
      "[('a', 1), ('b', 2), ('c', 3)]\n",
      "[('a', 1), ('b', 2), ('c', 3)]\n",
      "('a', 1) ('b', 2) ('c', 3)\n",
      "['a', 'b', 'c'] [1, 2, 3]\n"
     ]
    }
   ],
   "source": [
    "#单元测试用例\n",
    "# Va=[[1,2,3],[4,5,6]]\n",
    "# Vb=[[1],[2],[3]]\n",
    "# print(MatrixMulti(Va,Vb))\n",
    "# print(activate(2))\n",
    "# Va=[1,2,3]\n",
    "# Vb=[4,5,6]\n",
    "# print(VectorHadamard(Va,Vb))\n",
    "sizes=['a','b','c','d','e']\n",
    "for x, y in zip(sizes[:-1], sizes[1:]):\n",
    "    print(x,y)\n",
    "    \n",
    "    \n",
    "#打乱训练集顺序     \n",
    "x_te=['a','b','c']\n",
    "y_te=[1,2,3]\n",
    "temp = list(zip(x_te, y_te))\n",
    "print(temp)\n",
    "random.shuffle(temp)\n",
    "print(temp)\n",
    "print(*temp)\n",
    "\n",
    "x_te[:], y_te[:] = zip(*temp)\n",
    "print(x_te,y_te)\n",
    "\n",
    "#[('a', 1), ('b', 2), ('c', 3)]\n",
    "#[('c', 3), ('a', 1), ('b', 2)]\n",
    "#('c', 3) ('a', 1) ('b', 2)\n",
    "#['c', 'a', 'b'] [3, 1, 2]\n",
    "\n",
    "#X Y此时均为二维矩阵 二维列表，第一维度为第i个样本\n",
    "#                 print('X{}=:'.format(n_batch_size))\n",
    "#                 print(X)\n",
    "#                 print('Y{}=:'.format(n_batch_size))\n",
    "#                 print(Y)\n",
    "\n",
    "\n",
    "#遍历每个batch_size中的样本，计算反向传播 _____更新权重___ 一共打印60次 2*3*10\n",
    "#                 for a_l,y in zip(X,Y): \n",
    "#                     print(a_l,y)"
   ]
  },
  {
   "cell_type": "code",
   "execution_count": 6,
   "metadata": {
    "ExecuteTime": {
     "end_time": "2021-02-24T13:17:39.149836Z",
     "start_time": "2021-02-24T13:17:39.134875Z"
    }
   },
   "outputs": [
    {
     "name": "stdout",
     "output_type": "stream",
     "text": [
      "246\n"
     ]
    }
   ],
   "source": [
    "from functools import reduce\n",
    "a = [2,22,222]\n",
    "Sn = reduce(lambda x,y:x+y,a)\n",
    "print(Sn)"
   ]
  },
  {
   "cell_type": "code",
   "execution_count": 7,
   "metadata": {
    "ExecuteTime": {
     "end_time": "2021-02-24T13:17:39.165799Z",
     "start_time": "2021-02-24T13:17:39.150833Z"
    }
   },
   "outputs": [
    {
     "name": "stdout",
     "output_type": "stream",
     "text": [
      "[[1, 2], [1, 3], [2, 5], [2, 4], [2, 5], [2, 6], [3, 5], [3, 6], [3, 7]]\n",
      "[[6, 11], [6, 14], [7, 18]]\n",
      "[[1, 2], [1, 3], [2, 5], [2, 4], [2, 5], [2, 6]]\n",
      "1\n"
     ]
    }
   ],
   "source": [
    "A=[[[1,2],[1,3],[2,5]],[[2,4],[2,5],[2,6]],[[3,5],[3,6],[3,7]]]\n",
    "B=reduce(lambda x,y:x+y,A)\n",
    "print(reduce(lambda x,y:x+y,A))\n",
    "print(reduce(lambda x,y:Matrixadd(x,y),A))\n",
    "x=[[1,2],[1,3],[2,5]]\n",
    "y=[[2,4],[2,5],[2,6]]\n",
    "#****机制：拆开括号后合并\n",
    "print(x+y)\n",
    "print(B[0][0])"
   ]
  },
  {
   "cell_type": "code",
   "execution_count": 8,
   "metadata": {
    "ExecuteTime": {
     "end_time": "2021-02-24T13:17:39.181751Z",
     "start_time": "2021-02-24T13:17:39.167788Z"
    }
   },
   "outputs": [
    {
     "name": "stdout",
     "output_type": "stream",
     "text": [
      "10\n",
      "40\n",
      "784\n"
     ]
    }
   ],
   "source": [
    "layer=[784,40,10]\n",
    "bias=[30,10]\n",
    "for i in layer[::-1]:\n",
    "    print(i)"
   ]
  },
  {
   "cell_type": "code",
   "execution_count": 9,
   "metadata": {
    "ExecuteTime": {
     "end_time": "2021-02-24T13:17:39.197707Z",
     "start_time": "2021-02-24T13:17:39.182748Z"
    }
   },
   "outputs": [
    {
     "name": "stdout",
     "output_type": "stream",
     "text": [
      "<generator object <genexpr> at 0x0000016789DAD190>\n"
     ]
    }
   ],
   "source": [
    "print([0] for i in range(10))"
   ]
  },
  {
   "cell_type": "code",
   "execution_count": 31,
   "metadata": {
    "ExecuteTime": {
     "end_time": "2021-02-02T03:27:34.824059Z",
     "start_time": "2021-02-02T03:27:34.806389Z"
    }
   },
   "outputs": [
    {
     "name": "stdout",
     "output_type": "stream",
     "text": [
      "[[0, 0], [0, 1], [0, 2]]\n"
     ]
    }
   ],
   "source": [
    "#三行二列\n",
    "b=[ [i*j for i in range(2)] for j in range(3)]\n",
    "print(b)"
   ]
  },
  {
   "cell_type": "code",
   "execution_count": 32,
   "metadata": {
    "ExecuteTime": {
     "end_time": "2021-02-02T03:27:34.837886Z",
     "start_time": "2021-02-02T03:27:34.824059Z"
    }
   },
   "outputs": [
    {
     "name": "stdout",
     "output_type": "stream",
     "text": [
      "[[0, 1, 2, 3, 4, 5, 6, 7, 8, 9], [0, 1, 2, 3, 4, 5, 6, 7, 8, 9]]\n"
     ]
    }
   ],
   "source": [
    "c=[[ i for i in range(10)] for j in range(2)]\n",
    "print(c)"
   ]
  },
  {
   "cell_type": "code",
   "execution_count": 33,
   "metadata": {
    "ExecuteTime": {
     "end_time": "2021-02-02T03:27:34.854015Z",
     "start_time": "2021-02-02T03:27:34.837886Z"
    }
   },
   "outputs": [
    {
     "name": "stdout",
     "output_type": "stream",
     "text": [
      "0\n"
     ]
    }
   ],
   "source": [
    "def count_corr(y,label):\n",
    "    return int(y.index(max(y))==label.index(1))\n",
    "y=[0.2,0.9,0.3,0.1,0.5,0.8]\n",
    "label=[0,0,0,1,0,0]\n",
    "print(count_corr(y,label))"
   ]
  },
  {
   "cell_type": "code",
   "execution_count": 10,
   "metadata": {
    "ExecuteTime": {
     "end_time": "2021-02-03T07:50:23.720477Z",
     "start_time": "2021-02-03T07:50:23.709503Z"
    }
   },
   "outputs": [
    {
     "ename": "SyntaxError",
     "evalue": "invalid syntax (<ipython-input-10-2a2226ab111f>, line 1)",
     "output_type": "error",
     "traceback": [
      "\u001b[1;36m  File \u001b[1;32m\"<ipython-input-10-2a2226ab111f>\"\u001b[1;36m, line \u001b[1;32m1\u001b[0m\n\u001b[1;33m    a=[  [for i in range(3)] for j in range(4)]\u001b[0m\n\u001b[1;37m          ^\u001b[0m\n\u001b[1;31mSyntaxError\u001b[0m\u001b[1;31m:\u001b[0m invalid syntax\n"
     ]
    }
   ],
   "source": [
    "a=[  [for i in range(3)] for j in range(4)]\n",
    "print(a)"
   ]
  },
  {
   "cell_type": "code",
   "execution_count": null,
   "metadata": {
    "ExecuteTime": {
     "end_time": "2021-02-03T07:50:23.721470Z",
     "start_time": "2021-02-03T07:31:54.623Z"
    }
   },
   "outputs": [],
   "source": [
    "print(math.log(9))"
   ]
  },
  {
   "cell_type": "code",
   "execution_count": null,
   "metadata": {
    "ExecuteTime": {
     "end_time": "2021-02-03T07:50:23.722468Z",
     "start_time": "2021-02-03T07:31:55.343Z"
    }
   },
   "outputs": [],
   "source": [
    "test=[ [i*j]for i in range(3) for j in range(4)]\n",
    "print(test)"
   ]
  },
  {
   "cell_type": "code",
   "execution_count": null,
   "metadata": {
    "ExecuteTime": {
     "end_time": "2021-02-03T07:50:23.722468Z",
     "start_time": "2021-02-03T07:31:56.055Z"
    }
   },
   "outputs": [],
   "source": [
    "a=[1,2,3,4]\n",
    "b=[5,6,7,8]\n",
    "c=[9,10,11,12]\n",
    "d=[13,14,15,16]\n",
    "#error 这种遍历方式不会改变原列表\n",
    "for a1,b1,b2,b3 in zip(a,b,c,d):\n",
    "    a1=b1+b2+b3\n",
    "    print(a1)\n",
    "print(a)\n",
    "print(b)\n",
    "print(c)\n",
    "print(d)"
   ]
  },
  {
   "cell_type": "code",
   "execution_count": 3,
   "metadata": {
    "ExecuteTime": {
     "end_time": "2021-02-05T14:00:03.660117Z",
     "start_time": "2021-02-05T14:00:03.651142Z"
    }
   },
   "outputs": [
    {
     "name": "stdout",
     "output_type": "stream",
     "text": [
      "文件加载完成\n",
      "None\n",
      "<class 'NoneType'>\n"
     ]
    }
   ],
   "source": [
    "import json\n",
    "para=[[[1],[2,3,4]]]\n",
    "with open(\"paras.json\",\"w\")as f:\n",
    "    json_str=json.dump(para,f)\n",
    "print('文件加载完成')\n",
    "print(json_str)\n",
    "print(type(json_str))"
   ]
  },
  {
   "cell_type": "code",
   "execution_count": 8,
   "metadata": {
    "ExecuteTime": {
     "end_time": "2021-02-05T14:02:41.803037Z",
     "start_time": "2021-02-05T14:02:41.795062Z"
    }
   },
   "outputs": [
    {
     "name": "stdout",
     "output_type": "stream",
     "text": [
      "[[[1], [2, 3, 4]]]\n",
      "<class 'list'>\n"
     ]
    }
   ],
   "source": [
    "with open(\"paras.json\",'r') as load_f:\n",
    "    save= json.load(load_f)\n",
    "print(save)\n",
    "print(type(save))"
   ]
  },
  {
   "cell_type": "code",
   "execution_count": null,
   "metadata": {},
   "outputs": [],
   "source": []
  }
 ],
 "metadata": {
  "kernelspec": {
   "display_name": "Python 3",
   "language": "python",
   "name": "python3"
  },
  "language_info": {
   "codemirror_mode": {
    "name": "ipython",
    "version": 3
   },
   "file_extension": ".py",
   "mimetype": "text/x-python",
   "name": "python",
   "nbconvert_exporter": "python",
   "pygments_lexer": "ipython3",
   "version": "3.8.3"
  }
 },
 "nbformat": 4,
 "nbformat_minor": 4
}
